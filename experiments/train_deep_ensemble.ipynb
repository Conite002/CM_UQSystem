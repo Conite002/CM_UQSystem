{
 "cells": [
  {
   "cell_type": "code",
   "execution_count": null,
   "metadata": {},
   "outputs": [],
   "source": [
    "# Train Deep Ensemble Model\n",
    "from models.deep_ensemble import train_and_save_ensemble\n",
    "\n",
    "train_and_save_ensemble(num_models=5, epochs=10, batch_size=128)\n"
   ]
  }
 ],
 "metadata": {
  "language_info": {
   "name": "python"
  }
 },
 "nbformat": 4,
 "nbformat_minor": 2
}
