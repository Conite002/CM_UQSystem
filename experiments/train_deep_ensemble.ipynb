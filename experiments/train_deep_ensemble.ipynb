{
 "cells": [
  {
   "cell_type": "code",
   "execution_count": 1,
   "metadata": {},
   "outputs": [],
   "source": [
    "import sys\n",
    "sys.path.append('..')\n",
    "from models.deep_ensemble import train_and_save_ensemble, load_ensemble_models, load_mnist, ensemble_predict\n",
    "import torch\n"
   ]
  },
  {
   "cell_type": "markdown",
   "metadata": {},
   "source": [
    "* 2: Define Model Training Function\n",
    "* 3: Define Different Weight Initialization Methods\n",
    "* 4: Train and Save an Ensemble of Models with Data & Initialization Variation\n",
    "* 5: Load Trained Models for Inference\n",
    "* 6: Ensemble Prediction with Performance Metrics\n",
    "* 7: Visualize Predictive Variance\n",
    "* 8: Run Training and Evaluation"
   ]
  },
  {
   "cell_type": "code",
   "execution_count": null,
   "metadata": {},
   "outputs": [],
   "source": []
  }
 ],
 "metadata": {
  "kernelspec": {
   "display_name": "MER-GPU-2",
   "language": "python",
   "name": "mer-gpu-2"
  },
  "language_info": {
   "codemirror_mode": {
    "name": "ipython",
    "version": 3
   },
   "file_extension": ".py",
   "mimetype": "text/x-python",
   "name": "python",
   "nbconvert_exporter": "python",
   "pygments_lexer": "ipython3",
   "version": "3.9.21"
  }
 },
 "nbformat": 4,
 "nbformat_minor": 4
}
